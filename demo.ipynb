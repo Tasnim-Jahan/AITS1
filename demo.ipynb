{
 "cells": [
  {
   "cell_type": "code",
   "execution_count": 1,
   "id": "9c59dd17",
   "metadata": {},
   "outputs": [],
   "source": [
    "import pandas as pd\n",
    "\n",
    "#Get data\n",
    "train_data = pd.read_csv(r'.\\data\\traindata_overtANDlatentThyroidism.csv', encoding='cp932')\n",
    "test_data = pd.read_csv(r'.\\data\\testdata_overtThyroidism.csv', encoding='cp932')"
   ]
  },
  {
   "cell_type": "code",
   "execution_count": 2,
   "id": "e7c555a9",
   "metadata": {},
   "outputs": [],
   "source": [
    "#Target columns\n",
    "num_features = ['AST', 'ALT', 'γ-GTP', 'Total_cholesterol', 'RBC', 'Hb', 'UA', 'S-Cr', 'UA_S-Cr', 'ALP']\n",
    "cat_features = ['Sex']\n",
    "obj_variable = 'class'\n",
    "info_variable = 'attribute'\n",
    "target_columns = num_features+cat_features+[obj_variable, info_variable]"
   ]
  },
  {
   "cell_type": "code",
   "execution_count": 3,
   "id": "66d77d48",
   "metadata": {},
   "outputs": [],
   "source": [
    "#Extract \"target_columns\"\n",
    "train_data = train_data.loc[:,target_columns]\n",
    "test_data = test_data.loc[:,target_columns]\n",
    "\n",
    "#Exclude \"info_variable\" including \"gunma\" from the training data\n",
    "train_data = train_data[~train_data[info_variable].str.contains('gunma')].reset_index(drop=True)"
   ]
  },
  {
   "cell_type": "code",
   "execution_count": 4,
   "id": "bbea9ef2",
   "metadata": {},
   "outputs": [],
   "source": [
    "#Label encoding(\"cat_features\")\n",
    "label_encoder = {'male':0, 'female':1}\n",
    "train_data.loc[:,cat_features] = train_data.loc[:,cat_features].applymap(lambda x: label_encoder[x])\n",
    "test_data.loc[:,cat_features] = test_data.loc[:,cat_features].applymap(lambda x: label_encoder[x])\n",
    "\n",
    "#Label encoding(\"obj_variable\")\n",
    "label_encoder = {'hyper':1, 'hypox':0, 'normal':0}\n",
    "train_data[obj_variable] = train_data[obj_variable].map(lambda x: label_encoder[x])\n",
    "test_data[obj_variable] = test_data[obj_variable].map(lambda x: label_encoder[x])"
   ]
  },
  {
   "cell_type": "code",
   "execution_count": 5,
   "id": "9780f616",
   "metadata": {},
   "outputs": [
    {
     "data": {
      "text/plain": [
       "<catboost.core.CatBoostClassifier at 0x1de76c0ef70>"
      ]
     },
     "execution_count": 5,
     "metadata": {},
     "output_type": "execute_result"
    }
   ],
   "source": [
    "from catboost import CatBoostClassifier\n",
    "from sklearn.linear_model import LogisticRegression\n",
    "from sklearn.svm import SVC\n",
    "from tensorflow.python.keras.layers import Input, Dense\n",
    "from tensorflow.python.keras.models import Model\n",
    "\n",
    "##Define machine learning model\n",
    "model = CatBoostClassifier() #Catboost\n",
    "#model = LogisticRegression() #Logistic Regression\n",
    "#model = SVC() #SVM\n",
    "\n",
    "\n",
    "##Neural Network\n",
    "'''input_node = len(num_features+cat_features)\n",
    "inter_node = 32\n",
    "inter_num = 1\n",
    "output_node = len(train_data[obj_variable].unique())\n",
    "\n",
    "inputs = Input(shape=(input_node,))\n",
    "x_nn = inputs\n",
    "for i in range(0,inter_num): x_nn = Dense(inter_node, activation='relu')(x_nn)            \n",
    "outputs = Dense(output_node, activation='sigmoid')(x_nn)\n",
    "        \n",
    "model = Model(inputs=inputs, outputs=outputs)\n",
    "model.compile(optimizer='Adam', loss='binary_crossentropy')'''\n",
    "\n",
    "model"
   ]
  },
  {
   "cell_type": "code",
   "execution_count": 6,
   "id": "11058286",
   "metadata": {},
   "outputs": [],
   "source": [
    "import numpy as np\n",
    "from sklearn.model_selection import StratifiedKFold\n",
    "from sklearn.metrics import confusion_matrix, roc_auc_score\n",
    "\n",
    "#Validation\n",
    "kf = StratifiedKFold(n_splits=10)\n",
    "\n",
    "X_train = train_data.loc[:,num_features+cat_features]\n",
    "y_train = train_data[obj_variable]\n",
    "X_test = test_data.loc[:,num_features+cat_features]\n",
    "y_true = test_data[obj_variable]\n",
    "\n",
    "result = pd.DataFrame()\n",
    "for train_indexes, test_indexes in zip(kf.split(X_train, y_train), kf.split(X_test, y_true)):\n",
    "    train_index = train_indexes[0]\n",
    "    test_index = test_indexes[1]\n",
    "    \n",
    "    model.fit(X_train.loc[train_index,:], y_train[train_index], verbose=0)\n",
    "    #model.fit(X_train.loc[train_index,:], pd.get_dummies(y_train[train_index]), epochs=50, verbose=0) #For neural network\n",
    "    \n",
    "    proba = model.predict_proba(X_test.loc[test_index,:])\n",
    "    #proba = model.predict(X_test.loc[test_index,:]) #For neural network\n",
    "    positive_proba = proba[:,1]\n",
    "    auroc = roc_auc_score(y_true[test_index], positive_proba)\n",
    "        \n",
    "    y_pred = np.where(positive_proba>=0.5, 1, 0)\n",
    "    cm = confusion_matrix(y_true[test_index], y_pred, labels=[0, 1])\n",
    "    tn, fp, fn, tp = cm.flatten()\n",
    "        \n",
    "    recall = tp / (tp+fn)\n",
    "    specificity = tn / (tn+fp)\n",
    "    \n",
    "    result = result.append(pd.Series([auroc, recall, specificity], index=['AUROC', 'Recall', 'Specificity']),\n",
    "                           ignore_index=True)"
   ]
  },
  {
   "cell_type": "code",
   "execution_count": 7,
   "id": "56f08755",
   "metadata": {},
   "outputs": [
    {
     "data": {
      "text/html": [
       "<div>\n",
       "<style scoped>\n",
       "    .dataframe tbody tr th:only-of-type {\n",
       "        vertical-align: middle;\n",
       "    }\n",
       "\n",
       "    .dataframe tbody tr th {\n",
       "        vertical-align: top;\n",
       "    }\n",
       "\n",
       "    .dataframe thead th {\n",
       "        text-align: right;\n",
       "    }\n",
       "</style>\n",
       "<table border=\"1\" class=\"dataframe\">\n",
       "  <thead>\n",
       "    <tr style=\"text-align: right;\">\n",
       "      <th></th>\n",
       "      <th>AUROC</th>\n",
       "      <th>Recall</th>\n",
       "      <th>Specificity</th>\n",
       "    </tr>\n",
       "  </thead>\n",
       "  <tbody>\n",
       "    <tr>\n",
       "      <th>0</th>\n",
       "      <td>0.51395</td>\n",
       "      <td>0.01</td>\n",
       "      <td>0.990</td>\n",
       "    </tr>\n",
       "    <tr>\n",
       "      <th>1</th>\n",
       "      <td>0.58520</td>\n",
       "      <td>0.00</td>\n",
       "      <td>1.000</td>\n",
       "    </tr>\n",
       "    <tr>\n",
       "      <th>2</th>\n",
       "      <td>0.53445</td>\n",
       "      <td>0.00</td>\n",
       "      <td>0.985</td>\n",
       "    </tr>\n",
       "    <tr>\n",
       "      <th>3</th>\n",
       "      <td>0.50690</td>\n",
       "      <td>0.00</td>\n",
       "      <td>1.000</td>\n",
       "    </tr>\n",
       "    <tr>\n",
       "      <th>4</th>\n",
       "      <td>0.46950</td>\n",
       "      <td>0.00</td>\n",
       "      <td>0.995</td>\n",
       "    </tr>\n",
       "    <tr>\n",
       "      <th>5</th>\n",
       "      <td>0.50960</td>\n",
       "      <td>0.00</td>\n",
       "      <td>0.990</td>\n",
       "    </tr>\n",
       "    <tr>\n",
       "      <th>6</th>\n",
       "      <td>0.46400</td>\n",
       "      <td>0.00</td>\n",
       "      <td>1.000</td>\n",
       "    </tr>\n",
       "    <tr>\n",
       "      <th>7</th>\n",
       "      <td>0.50055</td>\n",
       "      <td>0.01</td>\n",
       "      <td>0.995</td>\n",
       "    </tr>\n",
       "    <tr>\n",
       "      <th>8</th>\n",
       "      <td>0.48650</td>\n",
       "      <td>0.00</td>\n",
       "      <td>0.990</td>\n",
       "    </tr>\n",
       "    <tr>\n",
       "      <th>9</th>\n",
       "      <td>0.50240</td>\n",
       "      <td>0.00</td>\n",
       "      <td>0.995</td>\n",
       "    </tr>\n",
       "  </tbody>\n",
       "</table>\n",
       "</div>"
      ],
      "text/plain": [
       "     AUROC  Recall  Specificity\n",
       "0  0.51395    0.01        0.990\n",
       "1  0.58520    0.00        1.000\n",
       "2  0.53445    0.00        0.985\n",
       "3  0.50690    0.00        1.000\n",
       "4  0.46950    0.00        0.995\n",
       "5  0.50960    0.00        0.990\n",
       "6  0.46400    0.00        1.000\n",
       "7  0.50055    0.01        0.995\n",
       "8  0.48650    0.00        0.990\n",
       "9  0.50240    0.00        0.995"
      ]
     },
     "execution_count": 7,
     "metadata": {},
     "output_type": "execute_result"
    }
   ],
   "source": [
    "result"
   ]
  },
  {
   "cell_type": "code",
   "execution_count": null,
   "id": "376c9361",
   "metadata": {},
   "outputs": [],
   "source": []
  }
 ],
 "metadata": {
  "kernelspec": {
   "display_name": "Python 3",
   "language": "python",
   "name": "python3"
  },
  "language_info": {
   "codemirror_mode": {
    "name": "ipython",
    "version": 3
   },
   "file_extension": ".py",
   "mimetype": "text/x-python",
   "name": "python",
   "nbconvert_exporter": "python",
   "pygments_lexer": "ipython3",
   "version": "3.9.4"
  }
 },
 "nbformat": 4,
 "nbformat_minor": 5
}
